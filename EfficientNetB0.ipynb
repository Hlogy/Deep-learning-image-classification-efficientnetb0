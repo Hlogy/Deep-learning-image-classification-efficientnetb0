{
  "cells": [
    {
      "cell_type": "markdown",
      "metadata": {
        "id": "view-in-github",
        "colab_type": "text"
      },
      "source": [
        "<a href=\"https://colab.research.google.com/github/Hlogy/Deep-learning-image-classification-efficientnetb0/blob/main/EfficientNetB0.ipynb\" target=\"_parent\"><img src=\"https://colab.research.google.com/assets/colab-badge.svg\" alt=\"Open In Colab\"/></a>"
      ]
    },
    {
      "cell_type": "code",
      "execution_count": null,
      "metadata": {
        "id": "xBEE8o2NfxEj"
      },
      "outputs": [],
      "source": [
        "from google.colab import drive\n",
        "drive.mount('/content/drive')"
      ]
    },
    {
      "cell_type": "code",
      "execution_count": null,
      "metadata": {
        "colab": {
          "background_save": true
        },
        "id": "NipwwZhjk3hr"
      },
      "outputs": [],
      "source": [
        "!pip install ipython-autotime\n",
        "%load_ext autotime"
      ]
    },
    {
      "cell_type": "code",
      "execution_count": null,
      "metadata": {
        "colab": {
          "background_save": true
        },
        "id": "1mHfF_jRK6tx"
      },
      "outputs": [],
      "source": [
        "import zipfile\n",
        "import os\n",
        "import tensorflow as tf\n",
        "from tensorflow import keras\n",
        "from keras.callbacks import ReduceLROnPlateau\n",
        "from sklearn.metrics import confusion_matrix, classification_report\n",
        "import numpy as np # linear algebra\n",
        "import pandas as pd\n",
        "import seaborn as sns\n",
        "import matplotlib.pyplot as plt\n",
        "from PIL import Image,  ImageTk\n",
        "from sklearn.model_selection import train_test_split\n",
        "from pathlib import Path"
      ]
    },
    {
      "cell_type": "code",
      "execution_count": null,
      "metadata": {
        "colab": {
          "background_save": true
        },
        "id": "fZHUKaPD_JQT"
      },
      "outputs": [],
      "source": [
        "zip_ref = zipfile.ZipFile('/content/drive/MyDrive/trashnet.zip', 'r') #Opens the zip file in read mode\n",
        "zip_ref.extractall('/tmp') #Extracts the files into the /tmp folder\n",
        "zip_ref.close()"
      ]
    },
    {
      "cell_type": "code",
      "execution_count": null,
      "metadata": {
        "id": "Asd8Dc-Y_Kko"
      },
      "outputs": [],
      "source": [
        "zip_ref = zipfile.ZipFile('/tmp/trashnet-data/dataset-resized.zip', 'r') #Opens the zip file in read mode\n",
        "zip_ref.extractall('/tmp/trashdata') #Extracts the files into the /tmp folder\n",
        "zip_ref.close()"
      ]
    },
    {
      "cell_type": "code",
      "execution_count": null,
      "metadata": {
        "id": "Gahozv1V_MAR"
      },
      "outputs": [],
      "source": [
        "#Delete Trash class (downsampling since class has only around 100 images)\n",
        "%rm -rf /tmp/trashdata/dataset-resized/trash"
      ]
    },
    {
      "cell_type": "code",
      "execution_count": null,
      "metadata": {
        "id": "5DVbobQCNkha"
      },
      "outputs": [],
      "source": [
        "im_dir = Path('/tmp/trashdata/dataset-resized')"
      ]
    },
    {
      "cell_type": "code",
      "execution_count": null,
      "metadata": {
        "id": "_g0_D1RXNE_y"
      },
      "outputs": [],
      "source": [
        "filepaths = list(im_dir.glob(r'**/*.jpg'))"
      ]
    },
    {
      "cell_type": "code",
      "execution_count": null,
      "metadata": {
        "id": "_1Z1txY2NFfY"
      },
      "outputs": [],
      "source": [
        "labels = list(map(lambda x: os.path.split(os.path.split(x)[0])[1], filepaths))\n",
        "  #os.path.split(os.path.split(filepaths[0])[0])[1]\n",
        "print (labels)"
      ]
    },
    {
      "cell_type": "code",
      "execution_count": null,
      "metadata": {
        "id": "i_w9sMcxNFlX"
      },
      "outputs": [],
      "source": [
        "#Creating a Dataframe for both filepaths and labels:\n",
        "filepaths = pd.Series(filepaths, name='Filepath').astype(str) #Turned to String\n",
        "labels = pd.Series(labels, name='Labels')\n",
        "print(labels)"
      ]
    },
    {
      "cell_type": "code",
      "execution_count": null,
      "metadata": {
        "id": "2mmirghFNs6c"
      },
      "outputs": [],
      "source": [
        "images = pd.concat([filepaths, labels], axis=1)\n",
        "images"
      ]
    },
    {
      "cell_type": "code",
      "execution_count": null,
      "metadata": {
        "id": "dlacVWnuOnFW"
      },
      "outputs": [],
      "source": [
        "image_df = images.sample(frac=1).reset_index(drop=True)\n",
        "image_df"
      ]
    },
    {
      "cell_type": "code",
      "execution_count": null,
      "metadata": {
        "id": "_3C8KzpzO6KI"
      },
      "outputs": [],
      "source": [
        "#Split images in image_df to train and test using functoin below from sklearn, with the following properties:\n",
        "train_df, test_df = train_test_split(image_df, train_size=0.7, shuffle=True, random_state=1)"
      ]
    },
    {
      "cell_type": "code",
      "execution_count": null,
      "metadata": {
        "id": "ibBUtu7jO8ta"
      },
      "outputs": [],
      "source": [
        "#Generators are a way of loading in the images one batch at a time so that we do not run out of memory\n",
        "#ex: set the batch size for 32, load 32 images, train on them, then recycle the memory for the next batch so we don't runout\n",
        "#here we can specify any image preprocssing we want to apply to images and any data augmentation\n",
        "#The moblienetv2 will be used now, later mobilenetv3 and others:\n",
        "train_generator = tf.keras.preprocessing.image.ImageDataGenerator(\n",
        "    #Specifying preprocessing function. Will come form keras mobilenetv2 processing function\n",
        "    preprocessing_function = tf.keras.applications.efficientnet.preprocess_input,\n",
        "    validation_split = 0.2,\n",
        "    rotation_range = 40,\n",
        "    width_shift_range = 0.2,\n",
        "    height_shift_range=0.2,\n",
        "    shear_range = 0.2,\n",
        "    zoom_range=0.2,\n",
        "    horizontal_flip=True,\n",
        "    vertical_flip=True,\n",
        "    fill_mode='nearest'\n",
        ")\n",
        "test_generator = tf.keras.preprocessing.image.ImageDataGenerator(\n",
        "    #Specifying preprocessing function. Will come form keras mobilenetv2 processing function\n",
        "    preprocessing_function = tf.keras.applications.efficientnet.preprocess_input,\n",
        ")"
      ]
    },
    {
      "cell_type": "code",
      "execution_count": null,
      "metadata": {
        "id": "LyTbwRppPO6x"
      },
      "outputs": [],
      "source": [
        "#Now, using generators to specify how to load data during training\n",
        "\n",
        "train_img = train_generator.flow_from_dataframe(\n",
        "    dataframe = train_df,\n",
        "    x_col = 'Filepath',\n",
        "    y_col = 'Labels',\n",
        "    target_size = (224,224),\n",
        "    color_mode = 'rgb',\n",
        "    class_mode = 'categorical',\n",
        "    batch_size = 32,\n",
        "    shuffle = True,\n",
        "    seed = 42,\n",
        "    subset = 'training'\n",
        ")\n",
        "val_img = train_generator.flow_from_dataframe(\n",
        "    dataframe = train_df,\n",
        "    x_col = 'Filepath',\n",
        "    y_col = 'Labels',\n",
        "    target_size = (224,224),\n",
        "    color_mode = 'rgb',\n",
        "    class_mode = 'categorical',\n",
        "    batch_size = 32,\n",
        "    shuffle = True,\n",
        "    seed = 42,\n",
        "    subset = 'validation'\n",
        ")\n",
        "test_img = test_generator.flow_from_dataframe(\n",
        "    dataframe = test_df,\n",
        "    x_col = 'Filepath',\n",
        "    y_col = 'Labels',\n",
        "    target_size = (224,224),\n",
        "    color_mode = 'rgb',\n",
        "    class_mode = 'categorical',\n",
        "    batch_size = 32,\n",
        "    shuffle = False\n",
        ")"
      ]
    },
    {
      "cell_type": "code",
      "execution_count": null,
      "metadata": {
        "id": "dC9tZj6JPUZy"
      },
      "outputs": [],
      "source": [
        "pretrained_model = tf.keras.applications.efficientnet.EfficientNetB0(\n",
        "    input_shape = (224,224,3),\n",
        "    include_top = False,\n",
        "    weights='imagenet',\n",
        "    #pooling='avg'\n",
        ")\n",
        "pretrained_model.trainable = False\n"
      ]
    },
    {
      "cell_type": "code",
      "execution_count": null,
      "metadata": {
        "id": "L9yDj2-Qc6cV"
      },
      "outputs": [],
      "source": [
        "from tensorflow.keras import layers"
      ]
    },
    {
      "cell_type": "code",
      "execution_count": null,
      "metadata": {
        "id": "JiZV1MXpPsVf"
      },
      "outputs": [],
      "source": [
        "inputs = pretrained_model.input\n",
        "\n",
        "\n",
        "x = tf.keras.layers.Dense(128,activation='relu')(pretrained_model.output)\n",
        "#x = tf.keras.layers.Dense(128,activation='relu')(x)\n",
        "x = tf.keras.layers.GlobalAveragePooling2D(name=\"avg_pool\")(x)\n",
        "x = tf.keras.layers.BatchNormalization()(x)\n",
        "top_dropout_rate = 0.2\n",
        "x = tf.keras.layers.Dropout(top_dropout_rate, name=\"top_dropout\")(x)\n",
        "\n",
        "outputs = tf.keras.layers.Dense(5,activation='softmax')(x)\n",
        "\n",
        "model = tf.keras.Model(inputs,outputs)\n",
        "\n",
        "for layer in model.layers:\n",
        "  if not isinstance(layer, layers.BatchNormalization):\n",
        "      layer.trainable = True\n",
        "\n",
        "print(model.summary())"
      ]
    },
    {
      "cell_type": "code",
      "execution_count": null,
      "metadata": {
        "id": "4Ff6-u4Efes-"
      },
      "outputs": [],
      "source": [
        "opt = keras.optimizers.Adam(learning_rate=0.001)"
      ]
    },
    {
      "cell_type": "code",
      "execution_count": null,
      "metadata": {
        "id": "dcDv9BAIQAG-"
      },
      "outputs": [],
      "source": [
        "model.compile(\n",
        "    optimizer=opt,\n",
        "    loss='categorical_crossentropy',\n",
        "    metrics=['accuracy']\n",
        ")\n",
        "history = model.fit(\n",
        "    train_img,\n",
        "    validation_data=val_img,\n",
        "    epochs = 50,\n",
        "    verbose=1,\n",
        "    callbacks=[\n",
        "             #tf.keras.callbacks.EarlyStopping(\n",
        "               #    monitor = 'val_loss',\n",
        "               #    mode = 'min',\n",
        "               #    patience=10,\n",
        "               #    verbose=1,\n",
        "               #   restore_best_weights=True\n",
        "               #),\n",
        "               ReduceLROnPlateau(monitor='val_loss', \n",
        "                                 mode='min', \n",
        "                                 patience= 5, \n",
        "                                 factor= 0.5, \n",
        "                                 min_lr= 1e-6, \n",
        "                                 verbose=1)\n",
        "    ]\n",
        ")"
      ]
    },
    {
      "cell_type": "code",
      "execution_count": null,
      "metadata": {
        "id": "XwbuMYbbOKzg"
      },
      "outputs": [],
      "source": [
        "results = model.evaluate(test_img,verbose=1)\n",
        "print('Test Accuracy: {:.2f}%'.format(results[1]*100))"
      ]
    },
    {
      "cell_type": "code",
      "execution_count": null,
      "metadata": {
        "id": "rRK0dLddPGLm"
      },
      "outputs": [],
      "source": [
        "predictions = np.argmax(model.predict(test_img),axis=1)\n",
        "cm = confusion_matrix(test_img.labels,predictions)\n",
        "clr = classification_report(test_img.labels,predictions, target_names=test_img.class_indices)"
      ]
    },
    {
      "cell_type": "code",
      "execution_count": null,
      "metadata": {
        "id": "E1R6AmfhPagM"
      },
      "outputs": [],
      "source": [
        "plt.figure(figsize=(5,5))\n",
        "sns.heatmap(cm, annot=True, fmt='g',vmin=0,cmap='Blues',cbar=True)\n",
        "plt.xticks(ticks=np.arange(5)+0.5, labels=test_img.class_indices, rotation=90)\n",
        "plt.yticks(ticks=np.arange(5)+0.5, labels=test_img.class_indices, rotation=0)\n",
        "plt.xlabel('Predicted')\n",
        "plt.ylabel('Actual')\n",
        "plt.title('Confusion Matrix')\n",
        "plt.show()"
      ]
    },
    {
      "cell_type": "code",
      "execution_count": null,
      "metadata": {
        "id": "MeG-qqb-PeKe"
      },
      "outputs": [],
      "source": [
        "print(\"Classification Report:\\n--------------------------------------------------------\\n\", clr)"
      ]
    },
    {
      "cell_type": "code",
      "execution_count": null,
      "metadata": {
        "colab": {
          "base_uri": "https://localhost:8080/",
          "height": 351
        },
        "id": "jc1sIhhiPgfl",
        "outputId": "3adfb440-f48f-4af0-d66e-2d3ea1685676"
      },
      "outputs": [
        {
          "data": {
            "image/png": "[encoded data removed]",
            "text/plain": [
              "<Figure size 720x360 with 1 Axes>"
            ]
          },
          "metadata": {},
          "output_type": "display_data"
        },
        {
          "name": "stdout",
          "output_type": "stream",
          "text": [
            "time: 192 ms (started: 2021-11-20 12:31:55 +00:00)\n"
          ]
        }
      ],
      "source": [
        "plt.figure(figsize=[10,5])\n",
        "plt.plot(history.history[\"accuracy\"], label = \"Training Accuracy\")\n",
        "plt.plot(history.history[\"val_accuracy\"], label = \"Validation Acuracy\")\n",
        "plt.ylabel(\"Accuracy\")\n",
        "plt.xlabel(\"Epoch\")\n",
        "plt.legend()\n",
        "plt.show()"
      ]
    },
    {
      "cell_type": "code",
      "execution_count": null,
      "metadata": {
        "colab": {
          "base_uri": "https://localhost:8080/",
          "height": 405
        },
        "id": "tVBasRw9PiwG",
        "outputId": "e237c5b5-370f-49d7-a818-6521f62ad81e"
      },
      "outputs": [
        {
          "data": {
            "image/png": "[encoded data removed]",
            "text/plain": [
              "<Figure size 720x432 with 1 Axes>"
            ]
          },
          "metadata": {},
          "output_type": "display_data"
        },
        {
          "name": "stdout",
          "output_type": "stream",
          "text": [
            "time: 174 ms (started: 2021-11-20 12:31:58 +00:00)\n"
          ]
        }
      ],
      "source": [
        "plt.figure(figsize=(10,6))\n",
        "plt.plot(history.history['loss'], label = \"Training loss\")\n",
        "plt.plot(history.history['val_loss'], label = \"Validation loss\")\n",
        "plt.ylabel(\"Loss\")\n",
        "plt.xlabel(\"Epoch\")\n",
        "plt.legend()\n",
        "plt.show()"
      ]
    }
  ],
  "metadata": {
    "accelerator": "GPU",
    "colab": {
      "collapsed_sections": [],
      "name": "EfficientNetB0.ipynb",
      "provenance": [],
      "mount_file_id": "124FFRT1uKN-gBbunu-neO3NgVAI9SKL1",
      "authorship_tag": "ABX9TyNvLH0R8VTV5WVwOTUjQcsc",
      "include_colab_link": true
    },
    "kernelspec": {
      "display_name": "Python 3",
      "name": "python3"
    },
    "language_info": {
      "name": "python"
    }
  },
  "nbformat": 4,
  "nbformat_minor": 0
}